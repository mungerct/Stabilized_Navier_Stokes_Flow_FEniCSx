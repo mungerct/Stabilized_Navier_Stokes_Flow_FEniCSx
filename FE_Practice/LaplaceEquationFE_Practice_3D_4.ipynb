{
 "cells": [
  {
   "cell_type": "markdown",
   "id": "97183cb1-6cb9-4203-ab40-a54150dac542",
   "metadata": {},
   "source": [
    "3D laplace equation using gmsh"
   ]
  },
  {
   "cell_type": "code",
   "execution_count": 1,
   "id": "bc9b771e-ca60-463c-aba5-f58ec3b2a914",
   "metadata": {},
   "outputs": [],
   "source": [
    "import gmsh\n",
    "import numpy as np\n",
    "from dolfinx.io import (VTXWriter, distribute_entity_data, gmshio)\n",
    "from mpi4py import MPI\n",
    "from petsc4py.PETSc import ScalarType\n",
    "import numpy as np\n",
    "import ufl\n",
    "from dolfinx import fem, io, mesh, plot, nls, log, default_scalar_type\n",
    "from dolfinx.fem.petsc import LinearProblem\n",
    "from dolfinx.fem import (Constant, Function, functionspace,\n",
    "                         assemble_scalar, dirichletbc, form, locate_dofs_topological, set_bc)\n",
    "from ufl import ds, dx, grad, inner\n",
    "from mpi4py import MPI\n",
    "from petsc4py import PETSc\n",
    "from basix.ufl import element\n",
    "from dolfinx.mesh import create_mesh, meshtags_from_entities"
   ]
  },
  {
   "cell_type": "markdown",
   "id": "4ca1f2e7-e1a6-476a-a224-71ca7667bf6d",
   "metadata": {},
   "source": [
    "Initialize Domian Boundary and Lengths"
   ]
  },
  {
   "cell_type": "code",
   "execution_count": 2,
   "id": "f345ac4e-c686-48f6-8ebd-41e14325e9be",
   "metadata": {},
   "outputs": [],
   "source": [
    "gmsh.initialize()\n",
    "\n",
    "x_L = y_L = z_L = 30 # Length of the cube sides\n",
    "c_x = x_L/2 # x center\n",
    "c_y = y_L/2 # y center\n",
    "c_z = z_L/2 # z center\n",
    "r = 1 # Sphere radius\n",
    "gdim = 3\n",
    "mesh_comm = MPI.COMM_WORLD\n",
    "model_rank = 0\n",
    "if mesh_comm.rank == model_rank:\n",
    "    box = gmsh.model.occ.addBox(0, 0, 0, x_L, y_L, z_L, tag=0)\n",
    "    sphere = gmsh.model.occ.addSphere(c_x, c_y, c_z, r, tag=1)"
   ]
  },
  {
   "cell_type": "markdown",
   "id": "0b9a4de7-3cfe-4f89-9904-5c8d3f860cc3",
   "metadata": {},
   "source": [
    "Meshing can only be done on a single core, use the zeroth (first) core to make the mesh"
   ]
  },
  {
   "cell_type": "code",
   "execution_count": 3,
   "id": "72375d03-039e-4fd8-bdce-5101edb18e6a",
   "metadata": {},
   "outputs": [
    {
     "name": "stdout",
     "output_type": "stream",
     "text": [
      "                                                                                                                                               \r"
     ]
    }
   ],
   "source": [
    "if mesh_comm.rank == model_rank:\n",
    "    fluid = gmsh.model.occ.cut([(gdim, box)], [(gdim, sphere)])\n",
    "    gmsh.model.occ.synchronize()"
   ]
  },
  {
   "cell_type": "markdown",
   "id": "cd39baa5-7784-4899-a3cf-e987a988aa66",
   "metadata": {},
   "source": [
    "Add the fuild_marker which allows meshing of interior nodes "
   ]
  },
  {
   "cell_type": "code",
   "execution_count": 4,
   "id": "7099d9cd-81eb-4617-8795-607e4ab31b6c",
   "metadata": {},
   "outputs": [],
   "source": [
    "fluid_marker = 1\n",
    "if mesh_comm.rank == model_rank:\n",
    "    volumes = gmsh.model.getEntities(dim=gdim)\n",
    "    assert (len(volumes) == 1)\n",
    "    gmsh.model.addPhysicalGroup(volumes[0][0], [volumes[0][1]], fluid_marker)\n",
    "    gmsh.model.setPhysicalName(volumes[0][0], fluid_marker, \"Fluid\")"
   ]
  },
  {
   "cell_type": "markdown",
   "id": "fdcd546e-74d5-4e21-9775-3178dfa35fc6",
   "metadata": {},
   "source": [
    "<!-- surfaces = gmsh.model.occ.getEntities(dim=2)\n",
    "inlet_marker, outlet_marker, top_wall_marker, bottom_wall_marker, left_wall_marker, right_wall_marker, obstacle_marker = 2, 3, 4, 5, 6, 7, 8\n",
    "walls = []\n",
    "sphere = []\n",
    "for surface in surfaces:\n",
    "    com = gmsh.model.occ.getCenterOfMass(surface[0], surface[1])\n",
    "    if np.allclose(com, [x_L/2, y_L/2, 0]):\n",
    "        gmsh.model.addPhysicalGroup(surface[0], [surface[1]], inlet_marker)\n",
    "        inlet = surface[1]\n",
    "        gmsh.model.setPhysicalName(surface[0], inlet_marker, \"Fluid inlet\")\n",
    "    elif np.allclose(com, [x_L/2, y_L/2, z_L]):\n",
    "        gmsh.model.addPhysicalGroup(surface[0], [surface[1]], outlet_marker)\n",
    "        gmsh.model.setPhysicalName(surface[0], outlet_marker, \"Fluid outlet\")\n",
    "    elif (\n",
    "        np.isclose(com[2], 0)\n",
    "        or np.isclose(com[1], 30)\n",
    "        or np.isclose(com[2], 30)\n",
    "        or np.isclose(com[1], 0)\n",
    "    ):\n",
    "        walls.append(surface[1])\n",
    "    else:\n",
    "        sphere.append(surface[1])\n",
    "gmsh.model.addPhysicalGroup(2, walls, wall_marker)\n",
    "gmsh.model.setPhysicalName(2, wall_marker, \"Walls\")\n",
    "gmsh.model.addPhysicalGroup(2, obstacles, obstacle_marker)\n",
    "gmsh.model.setPhysicalName(2, obstacle_marker, \"Obstacle\") -->"
   ]
  },
  {
   "cell_type": "code",
   "execution_count": 5,
   "id": "9202f1e7-870e-4705-b093-83ee67ed9fad",
   "metadata": {},
   "outputs": [],
   "source": [
    "\n",
    "inlet_marker, outlet_marker, top_wall_marker, bottom_wall_marker, right_wall_marker, left_wall_marker, sphere_marker = 2, 3, 4, 5, 6, 7, 8\n",
    "inlet, outlet, topwall, bottomwall, rightwall, leftwall, sphere = [], [], [], [], [], [], []\n",
    "if mesh_comm.rank == model_rank:\n",
    "    boundaries = gmsh.model.getBoundary(volumes, oriented=False)\n",
    "    for boundary in boundaries:\n",
    "        center_of_mass = gmsh.model.occ.getCenterOfMass(boundary[0], boundary[1])\n",
    "        if np.allclose(center_of_mass, [x_L/2, y_L/2, 0]):\n",
    "            inlet.append(boundary[1])\n",
    "        elif np.allclose(center_of_mass, [x_L/2, y_L/2, z_L]):\n",
    "            outlet.append(boundary[1])\n",
    "        elif np.allclose(center_of_mass, [x_L/2, y_L, z_L/2]):\n",
    "            topwall.append(boundary[1])\n",
    "        elif np.allclose(center_of_mass, [x_L/2, 0, z_L/2]):\n",
    "            bottomwall.append(boundary[1])\n",
    "        elif np.allclose(center_of_mass, [0, y_L/2, z_L/2]):\n",
    "            leftwall.append(boundary[1])\n",
    "        elif np.allclose(center_of_mass, [x_L, y_L/2, z_L/2]):\n",
    "            rightwall.append(boundary[1])\n",
    "        else:\n",
    "            sphere.append(boundary[1])\n",
    "    gmsh.model.addPhysicalGroup(2, topwall, top_wall_marker)\n",
    "    gmsh.model.setPhysicalName(2, top_wall_marker, \"Top_Wall\")\n",
    "    gmsh.model.addPhysicalGroup(2, bottomwall, bottom_wall_marker)\n",
    "    gmsh.model.setPhysicalName(2, bottom_wall_marker, \"Bottom_Wall\")\n",
    "    \n",
    "    gmsh.model.addPhysicalGroup(2, inlet, inlet_marker)\n",
    "    gmsh.model.setPhysicalName(2, inlet_marker, \"Inlet\")\n",
    "    gmsh.model.addPhysicalGroup(2, outlet, outlet_marker)\n",
    "    gmsh.model.setPhysicalName(2, outlet_marker, \"Outlet\")\n",
    "    \n",
    "    gmsh.model.addPhysicalGroup(2, leftwall, left_wall_marker)\n",
    "    gmsh.model.setPhysicalName(2, left_wall_marker, \"Left_Wall\")\n",
    "    gmsh.model.addPhysicalGroup(2, rightwall, right_wall_marker)\n",
    "    gmsh.model.setPhysicalName(2, right_wall_marker, \"Right_Wall\")\n",
    "    \n",
    "    gmsh.model.addPhysicalGroup(2, sphere, sphere_marker)\n",
    "    gmsh.model.setPhysicalName(2, sphere_marker, \"Sphere\")"
   ]
  },
  {
   "cell_type": "markdown",
   "id": "9ad6c5e9-5b9f-44a8-be1d-db9ed4686f55",
   "metadata": {},
   "source": [
    "Set max mesh size"
   ]
  },
  {
   "cell_type": "code",
   "execution_count": 6,
   "id": "d912ec89-8a33-4f87-bfd5-c113c1fee2df",
   "metadata": {},
   "outputs": [],
   "source": [
    "res_min = 3\n",
    "if mesh_comm.rank == model_rank:\n",
    "    distance_field = gmsh.model.mesh.field.add(\"Distance\")\n",
    "    gmsh.model.mesh.field.setNumbers(distance_field, \"EdgesList\", sphere)\n",
    "    threshold_field = gmsh.model.mesh.field.add(\"Threshold\")\n",
    "    gmsh.model.mesh.field.setNumber(threshold_field, \"IField\", distance_field)\n",
    "    gmsh.model.mesh.field.setNumber(threshold_field, \"LcMin\", res_min)\n",
    "    gmsh.model.mesh.field.setNumber(threshold_field, \"LcMax\", 2)\n",
    "    gmsh.model.mesh.field.setNumber(threshold_field, \"DistMin\", 0)\n",
    "    gmsh.model.mesh.field.setNumber(threshold_field, \"DistMax\", 0)\n",
    "    min_field = gmsh.model.mesh.field.add(\"Min\")\n",
    "    gmsh.model.mesh.field.setNumbers(min_field, \"FieldsList\", [threshold_field])\n",
    "    gmsh.model.mesh.field.setAsBackgroundMesh(min_field)"
   ]
  },
  {
   "cell_type": "code",
   "execution_count": 7,
   "id": "bcd3c83b-d8d7-46a5-8bdb-ccf904145261",
   "metadata": {},
   "outputs": [
    {
     "name": "stdout",
     "output_type": "stream",
     "text": [
      "Info    : Meshing 1D...\n",
      "Info    : [ 10%] Meshing curve 14 (Circle)\n",
      "Info    : [ 30%] Meshing curve 16 (Line)\n",
      "Info    : [ 30%] Meshing curve 17 (Line)\n",
      "Info    : [ 40%] Meshing curve 18 (Line)\n",
      "Info    : [ 50%] Meshing curve 19 (Line)\n",
      "Info    : [ 50%] Meshing curve 20 (Line)\n",
      "Info    : [ 60%] Meshing curve 21 (Line)\n",
      "Info    : [ 70%] Meshing curve 22 (Line)\n",
      "Info    : [ 70%] Meshing curve 23 (Line)\n",
      "Info    : [ 80%] Meshing curve 24 (Line)\n",
      "Info    : [ 90%] Meshing curve 25 (Line)\n",
      "Info    : [ 90%] Meshing curve 26 (Line)\n",
      "Info    : [100%] Meshing curve 27 (Line)\n",
      "Info    : Done meshing 1D (Wall 0.000949791s, CPU 0.001087s)\n",
      "Info    : Meshing 2D...\n",
      "Info    : [  0%] Meshing surface 7 (Sphere, Frontal-Delaunay)\n",
      "Info    : [ 20%] Meshing surface 8 (Plane, Frontal-Delaunay)\n",
      "Info    : [ 30%] Meshing surface 9 (Plane, Frontal-Delaunay)\n",
      "Info    : [ 50%] Meshing surface 10 (Plane, Frontal-Delaunay)\n",
      "Info    : [ 60%] Meshing surface 11 (Plane, Frontal-Delaunay)\n",
      "Info    : [ 80%] Meshing surface 12 (Plane, Frontal-Delaunay)\n",
      "Info    : [ 90%] Meshing surface 13 (Plane, Frontal-Delaunay)\n",
      "Info    : Done meshing 2D (Wall 0.039673s, CPU 0.039903s)\n",
      "Info    : Meshing 3D...\n",
      "Info    : 3D Meshing 1 volume with 1 connected component\n",
      "Info    : Tetrahedrizing 1653 nodes...\n",
      "Info    : Done tetrahedrizing 1661 nodes (Wall 0.0135714s, CPU 0.010362s)\n",
      "Info    : Reconstructing mesh...\n",
      "Info    :  - Creating surface mesh\n",
      "Info    :  - Identifying boundary edges\n",
      "Info    :  - Recovering boundary\n",
      "Info    :  - Added 1 Steiner point\n",
      "Info    : Done reconstructing mesh (Wall 0.031745s, CPU 0.027939s)\n",
      "Info    : Found volume 0\n",
      "Info    : Found void region\n",
      "Info    : It. 0 - 0 nodes created - worst tet radius 10.4113 (nodes removed 0 0)\n",
      "Info    : It. 500 - 490 nodes created - worst tet radius 1.63244 (nodes removed 0 10)\n",
      "Info    : It. 1000 - 990 nodes created - worst tet radius 1.31775 (nodes removed 0 10)\n",
      "Info    : It. 1500 - 1490 nodes created - worst tet radius 1.16308 (nodes removed 0 10)\n",
      "Info    : It. 2000 - 1990 nodes created - worst tet radius 1.06613 (nodes removed 0 10)\n",
      "Info    : 3D refinement terminated (4095 nodes total):\n",
      "Info    :  - 2 Delaunay cavities modified for star shapeness\n",
      "Info    :  - 10 nodes could not be inserted\n",
      "Info    :  - 20540 tetrahedra created in 0.0848996 sec. (241932 tets/s)\n",
      "Info    : 0 node relocations\n"
     ]
    },
    {
     "name": "stderr",
     "output_type": "stream",
     "text": [
      "Warning : Unknown curve 7\n"
     ]
    },
    {
     "name": "stdout",
     "output_type": "stream",
     "text": [
      "Info    : Done meshing 3D (Wall 0.190828s, CPU 0.187776s)\n",
      "Info    : Optimizing mesh...\n",
      "Info    : Optimizing volume 0\n",
      "Info    : Optimization starts (volume = 26997.2) with worst = 0.010609 / average = 0.779907:\n",
      "Info    : 0.00 < quality < 0.10 :        57 elements\n",
      "Info    : 0.10 < quality < 0.20 :       125 elements\n",
      "Info    : 0.20 < quality < 0.30 :       238 elements\n",
      "Info    : 0.30 < quality < 0.40 :       350 elements\n",
      "Info    : 0.40 < quality < 0.50 :       522 elements\n",
      "Info    : 0.50 < quality < 0.60 :       929 elements\n",
      "Info    : 0.60 < quality < 0.70 :      2202 elements\n",
      "Info    : 0.70 < quality < 0.80 :      4546 elements\n",
      "Info    : 0.80 < quality < 0.90 :      7672 elements\n",
      "Info    : 0.90 < quality < 1.00 :      3892 elements\n",
      "Info    : 415 edge swaps, 15 node relocations (volume = 26997.2): worst = 0.229109 / average = 0.792874 (Wall 0.00692871s, CPU 0.00625s)\n",
      "Info    : 420 edge swaps, 17 node relocations (volume = 26997.2): worst = 0.282004 / average = 0.793063 (Wall 0.00826947s, CPU 0.007622s)\n",
      "Info    : 421 edge swaps, 18 node relocations (volume = 26997.2): worst = 0.282506 / average = 0.79311 (Wall 0.00951277s, CPU 0.008886s)\n",
      "Info    : No ill-shaped tets in the mesh :-)\n",
      "Info    : 0.00 < quality < 0.10 :         0 elements\n",
      "Info    : 0.10 < quality < 0.20 :         0 elements\n",
      "Info    : 0.20 < quality < 0.30 :         2 elements\n",
      "Info    : 0.30 < quality < 0.40 :       356 elements\n",
      "Info    : 0.40 < quality < 0.50 :       495 elements\n",
      "Info    : 0.50 < quality < 0.60 :       894 elements\n",
      "Info    : 0.60 < quality < 0.70 :      2170 elements\n",
      "Info    : 0.70 < quality < 0.80 :      4590 elements\n",
      "Info    : 0.80 < quality < 0.90 :      7750 elements\n",
      "Info    : 0.90 < quality < 1.00 :      3893 elements\n",
      "Info    : Done optimizing mesh (Wall 0.0270802s, CPU 0.02671s)\n",
      "Info    : 4094 nodes 23648 elements\n",
      "Info    : Optimizing mesh (Netgen)...\n",
      "Info    : Optimizing volume 0\n",
      "Info    : CalcLocalH: 4094 Points 20157 Elements 3298 Surface Elements \n",
      "Info    : Remove Illegal Elements \n",
      "Info    : 531 illegal tets \n",
      "Info    : SplitImprove \n",
      "Info    : badmax = 16.3548 \n",
      "Info    : 88 splits performed \n",
      "Info    : SwapImprove  \n",
      "Info    : 127 swaps performed \n",
      "Info    : SwapImprove2  \n",
      "Info    : 5 swaps performed \n",
      "Info    : 263 illegal tets \n",
      "Info    : SplitImprove \n",
      "Info    : badmax = 82.622 \n",
      "Info    : 72 splits performed \n",
      "Info    : SwapImprove  \n",
      "Info    : 11 swaps performed \n",
      "Info    : SwapImprove2  \n",
      "Info    : 0 swaps performed \n",
      "Info    : 65 illegal tets \n",
      "Info    : SplitImprove \n",
      "Info    : badmax = 82.622 \n",
      "Info    : 14 splits performed \n",
      "Info    : SwapImprove  \n",
      "Info    : 6 swaps performed \n",
      "Info    : SwapImprove2  \n",
      "Info    : 0 swaps performed \n",
      "Info    : 24 illegal tets \n",
      "Info    : SplitImprove \n",
      "Info    : badmax = 82.622 \n",
      "Info    : 8 splits performed \n",
      "Info    : SwapImprove  \n",
      "Info    : 0 swaps performed \n",
      "Info    : SwapImprove2  \n",
      "Info    : 0 swaps performed \n",
      "Info    : 0 illegal tets \n",
      "Info    : Volume Optimization \n",
      "Info    : CombineImprove \n",
      "Info    : 208 elements combined \n",
      "Info    : ImproveMesh \n",
      "Info    : Total badness = 27517.6 \n"
     ]
    },
    {
     "name": "stderr",
     "output_type": "stream",
     "text": [
      "Warning : ------------------------------\n",
      "Warning : Mesh generation error summary\n",
      "Warning :     1 warning\n",
      "Warning :     0 errors\n",
      "Warning : Check the full log for details\n",
      "Warning : ------------------------------\n"
     ]
    },
    {
     "name": "stdout",
     "output_type": "stream",
     "text": [
      "Info    : Total badness = 26347.5 \n",
      "Info    : SplitImprove \n",
      "Info    : badmax = 13.9571 \n",
      "Info    : 0 splits performed \n",
      "Info    : ImproveMesh \n",
      "Info    : Total badness = 26347.5 \n",
      "Info    : Total badness = 26182.3 \n",
      "Info    : SwapImprove  \n",
      "Info    : 1187 swaps performed \n",
      "Info    : SwapImprove2  \n",
      "Info    : 0 swaps performed \n",
      "Info    : ImproveMesh \n",
      "Info    : Total badness = 24144.8 \n",
      "Info    : Total badness = 23552.6 \n",
      "Info    : CombineImprove \n",
      "Info    : 44 elements combined \n",
      "Info    : ImproveMesh \n",
      "Info    : Total badness = 23169.7 \n",
      "Info    : Total badness = 23093.7 \n",
      "Info    : SplitImprove \n",
      "Info    : badmax = 6.87274 \n",
      "Info    : 0 splits performed \n",
      "Info    : ImproveMesh \n",
      "Info    : Total badness = 23093.7 \n",
      "Info    : Total badness = 23081.5 \n",
      "Info    : SwapImprove  \n",
      "Info    : 167 swaps performed \n",
      "Info    : SwapImprove2  \n",
      "Info    : 0 swaps performed \n",
      "Info    : ImproveMesh \n",
      "Info    : Total badness = 22987.4 \n",
      "Info    : Total badness = 22886.9 \n",
      "Info    : CombineImprove \n",
      "Info    : 8 elements combined \n",
      "Info    : ImproveMesh \n",
      "Info    : Total badness = 22822.6 \n",
      "Info    : Total badness = 22808.2 \n",
      "Info    : SplitImprove \n",
      "Info    : badmax = 6.09313 \n",
      "Info    : 0 splits performed \n",
      "Info    : ImproveMesh \n",
      "Info    : Total badness = 22808.2 \n",
      "Info    : Total badness = 22805.2 \n",
      "Info    : SwapImprove  \n",
      "Info    : 52 swaps performed \n",
      "Info    : SwapImprove2  \n",
      "Info    : 0 swaps performed \n",
      "Info    : ImproveMesh \n",
      "Info    : Total badness = 22781.4 \n",
      "Info    : Total badness = 22750.8 \n",
      "Info    : Done optimizing mesh (Wall 1.02682s, CPU 1.02652s)\n"
     ]
    }
   ],
   "source": [
    "if mesh_comm.rank == model_rank:\n",
    "    gmsh.model.mesh.generate(gdim)\n",
    "    gmsh.model.mesh.setOrder(1)\n",
    "    gmsh.model.mesh.optimize(\"Netgen\")"
   ]
  },
  {
   "cell_type": "code",
   "execution_count": 8,
   "id": "ddd1c1b4-fc07-45a2-be1f-555408e6fd45",
   "metadata": {},
   "outputs": [
    {
     "name": "stdout",
     "output_type": "stream",
     "text": [
      "Info    : Writing 'LaplaceEquationFE_Practice_4.msh'...\n",
      "Info    : Done writing 'LaplaceEquationFE_Practice_4.msh'\n"
     ]
    }
   ],
   "source": [
    "gmsh.write(\"LaplaceEquationFE_Practice_4.msh\")"
   ]
  },
  {
   "cell_type": "code",
   "execution_count": 9,
   "id": "f85df5d8-12e3-4c57-bb11-db27abcee6fc",
   "metadata": {},
   "outputs": [],
   "source": [
    "mesh, _, ft = gmshio.model_to_mesh(gmsh.model, mesh_comm, model_rank, gdim=gdim)\n",
    "ft.name = \"Facet markers\""
   ]
  },
  {
   "cell_type": "markdown",
   "id": "33a859ad-9810-497b-9b46-947b0be8b074",
   "metadata": {},
   "source": [
    "Apply boundary condtions"
   ]
  },
  {
   "cell_type": "code",
   "execution_count": 10,
   "id": "6415100f-fb0b-4f90-a4ab-56dfca484e3b",
   "metadata": {},
   "outputs": [],
   "source": [
    "msh = element(\"Lagrange\", mesh.topology.cell_name(), 2)\n",
    "V = fem.functionspace(mesh, msh)\n",
    "fdim = mesh.topology.dim - 1\n",
    "\n",
    "# Define boundary conditions\n",
    "\n",
    "# # Inlet\n",
    "# class InletVelocity():\n",
    "#     def __call__(self, x):\n",
    "#         values = np.zeros((1, x.shape[1]), dtype=PETSc.ScalarType)\n",
    "#         values[0] = x[1] - L/2\n",
    "#         return values\n",
    "\n",
    "\n",
    "# u_inlet = fem.Function(V)\n",
    "# inlet_velocity = InletVelocity()\n",
    "# u_inlet.interpolate(inlet_velocity)\n",
    "# bc_inflow = dirichletbc(u_inlet, locate_dofs_topological(V, fdim, ft.find(inlet_marker)))\n",
    "\n",
    "# Outlet\n",
    "# bc_outlet = dirichletbc(u_inlet, locate_dofs_topological(V, fdim, ft.find(outlet_marker)))\n",
    "\n",
    "# Obstacle\n",
    "bc_obstacle = dirichletbc(PETSc.ScalarType(0), locate_dofs_topological(V, fdim, ft.find(sphere_marker)), V)\n",
    "\n",
    "# Top Wall\n",
    "bc_top_wall = dirichletbc(PETSc.ScalarType(x_L/2), locate_dofs_topological(V, fdim, ft.find(top_wall_marker)), V)\n",
    "\n",
    "# Bottom Wall\n",
    "bc_bottom_wall = dirichletbc(PETSc.ScalarType(-x_L/2), locate_dofs_topological(V, fdim, ft.find(bottom_wall_marker)), V)"
   ]
  },
  {
   "cell_type": "markdown",
   "id": "9173966c-8342-4c6a-a472-836e7879dda5",
   "metadata": {},
   "source": [
    "Define the problem"
   ]
  },
  {
   "cell_type": "code",
   "execution_count": 11,
   "id": "3e743c05-f1c3-40f2-a2ec-c70df1cf4c44",
   "metadata": {},
   "outputs": [],
   "source": [
    "u = ufl.TrialFunction(V)\n",
    "v = ufl.TestFunction(V)\n",
    "f = fem.Constant(mesh,  default_scalar_type(0))\n",
    "bcs = [bc_obstacle, bc_top_wall, bc_bottom_wall]\n",
    "a = ufl.dot(ufl.grad(u), ufl.grad(v)) * ufl.dx\n",
    "L = f * v * ufl.dx"
   ]
  },
  {
   "cell_type": "markdown",
   "id": "25c4e1d4-0518-471b-b12e-8b97509c1121",
   "metadata": {},
   "source": [
    "Solve the problem"
   ]
  },
  {
   "cell_type": "code",
   "execution_count": 12,
   "id": "b1612f42-478b-4cc2-ac9d-2854d19aa57b",
   "metadata": {},
   "outputs": [],
   "source": [
    "problem = LinearProblem(a, L, bcs=bcs, petsc_options={\"ksp_type\": \"preonly\", \"pc_type\": \"lu\"})\n",
    "uh = problem.solve()"
   ]
  },
  {
   "cell_type": "markdown",
   "id": "e992ccfe-4e75-47f6-9516-6c84e0c293fd",
   "metadata": {},
   "source": [
    "Export data for post processing"
   ]
  },
  {
   "cell_type": "code",
   "execution_count": 13,
   "id": "7ff53078-de0f-4676-b3b0-3340429af156",
   "metadata": {},
   "outputs": [],
   "source": [
    "# xyz = V.tabulate_dof_coordinates()\n",
    "# x = xyz[:,0]\n",
    "# y = xyz[:,1]\n",
    "# z = xyz[:,2]\n",
    "# print(x)\n",
    "# sol = np.array((uh.vector))\n",
    "# print(sol)\n",
    "# np.savetxt('FE_Practice_4_x_Mesh.csv', x, delimiter=',')\n",
    "# np.savetxt('FE_Practice_4_y_Mesh.csv', y, delimiter=',')\n",
    "# np.savetxt('FE_Practice_4_z_Mesh.csv', z, delimiter=',')\n",
    "# np.savetxt('FE_Practice_4_Sol.csv', sol, delimiter=',')"
   ]
  },
  {
   "cell_type": "code",
   "execution_count": 17,
   "id": "8ec7415f-3486-4284-89c0-3fa770ef65b8",
   "metadata": {},
   "outputs": [],
   "source": [
    "from dolfinx.io import XDMFFile\n",
    "from basix.ufl import element as VectorElement\n",
    "with XDMFFile(MPI.COMM_WORLD, \"LaplaceEquation3D_FE_Practice_4.xdmf\", \"w\") as pfile_xdmf:\n",
    "    uh.x.scatter_forward()\n",
    "    P3 = VectorElement(\"Lagrange\", mesh.basix_cell(), 1)\n",
    "    u1 = Function(functionspace(mesh, P3))\n",
    "    u1.interpolate(uh)\n",
    "    pfile_xdmf.write_mesh(mesh)\n",
    "    pfile_xdmf.write_function(u1)"
   ]
  },
  {
   "cell_type": "code",
   "execution_count": null,
   "id": "4118a48c-3897-43e0-8c91-204783bd0e7d",
   "metadata": {},
   "outputs": [],
   "source": []
  }
 ],
 "metadata": {
  "kernelspec": {
   "display_name": "Python 3 (ipykernel)",
   "language": "python",
   "name": "python3"
  },
  "language_info": {
   "codemirror_mode": {
    "name": "ipython",
    "version": 3
   },
   "file_extension": ".py",
   "mimetype": "text/x-python",
   "name": "python",
   "nbconvert_exporter": "python",
   "pygments_lexer": "ipython3",
   "version": "3.12.2"
  }
 },
 "nbformat": 4,
 "nbformat_minor": 5
}
