{
 "cells": [
  {
   "cell_type": "markdown",
   "id": "d86f97b4-c9ad-498c-9f4d-d8294279ec4e",
   "metadata": {},
   "source": [
    "FE Practice 2, 1 dimensional 1D burgers equation"
   ]
  },
  {
   "cell_type": "code",
   "execution_count": 1,
   "id": "a3bacf97-85e0-4355-be89-080a2a198ed4",
   "metadata": {},
   "outputs": [],
   "source": [
    "from mpi4py import MPI\n",
    "from petsc4py.PETSc import ScalarType\n",
    "import numpy as np\n",
    "import ufl\n",
    "from dolfinx import fem, io, mesh, plot, nls, log\n",
    "from dolfinx.fem.petsc import NonlinearProblem\n",
    "from dolfinx.nls.petsc import NewtonSolver\n",
    "from ufl import ds, dx, grad, inner\n",
    "from mpi4py import MPI\n",
    "from petsc4py import PETSc"
   ]
  },
  {
   "cell_type": "markdown",
   "id": "bd8280c2-ffa0-4e96-ac78-6997ad032638",
   "metadata": {},
   "source": [
    "Create the mesh"
   ]
  },
  {
   "cell_type": "code",
   "execution_count": 2,
   "id": "b5900b66-1c76-45f9-ae6c-c3102aeb8bc8",
   "metadata": {},
   "outputs": [],
   "source": [
    "msh = mesh.create_interval(comm=MPI.COMM_WORLD, points=((-1.0),(1.0)), nx=1000) # Create mesh\n",
    "V = fem.functionspace(msh, (\"Lagrange\", 20)) # Create quadratic function space\n",
    "nu = 0.01 # Viscosity"
   ]
  },
  {
   "cell_type": "markdown",
   "id": "f173d6ff-b36b-4bda-bdf8-8a97a3f91e65",
   "metadata": {},
   "source": [
    "Create the lowe rboundary condition at x = -1, u = 1"
   ]
  },
  {
   "cell_type": "code",
   "execution_count": 3,
   "id": "08df20c1-b62e-45de-90b4-e25c802285b4",
   "metadata": {},
   "outputs": [],
   "source": [
    "# Lower Boundary Condition\n",
    "facets_lower = mesh.locate_entities_boundary( # Find the facets of the lower boundary, there should only be 1 becuase this is a 1D problem\n",
    "    msh,\n",
    "    dim=(msh.topology.dim - 1),\n",
    "    marker=lambda x: np.isclose(x[0], -1.0),\n",
    ")\n",
    "# Find the DOFs\n",
    "dofs = fem.locate_dofs_topological(V=V, entity_dim=0, entities=facets_lower)\n",
    "# Apply the lower BC\n",
    "bc_L = fem.dirichletbc(value=ScalarType(1.0), dofs=dofs, V=V)"
   ]
  },
  {
   "cell_type": "markdown",
   "id": "6313917f-1d18-4f64-b76b-b6b35921ac1f",
   "metadata": {},
   "source": [
    "Create the upper boundary condition at x = 1, u = -1"
   ]
  },
  {
   "cell_type": "code",
   "execution_count": 4,
   "id": "ca37c580-c31c-4813-a2ef-7dd1ca702836",
   "metadata": {},
   "outputs": [],
   "source": [
    "# Upper Boundary Condition\n",
    "facets_upper = mesh.locate_entities_boundary( # Find the facets of the upper boundary, there should only be 1 becuase this is a 1D problem\n",
    "    msh,\n",
    "    dim=(msh.topology.dim - 1),\n",
    "    marker=lambda x: np.isclose(x[0], 1.0),\n",
    ")\n",
    "# Find the DOFs\n",
    "dofs = fem.locate_dofs_topological(V=V, entity_dim=0, entities=facets_upper)\n",
    "# Apply the lower BC\n",
    "bc_U = fem.dirichletbc(value=ScalarType(-1.0), dofs=dofs, V=V)\n",
    "\n",
    "# Combine boundary conditions\n",
    "bcs = [bc_L, bc_U]"
   ]
  },
  {
   "cell_type": "markdown",
   "id": "b520c3c5-2a6f-4dca-9586-702c05d01a58",
   "metadata": {},
   "source": [
    "Define the variational problem"
   ]
  },
  {
   "cell_type": "code",
   "execution_count": 5,
   "id": "f9cd7e48-fe88-4f85-9f86-ce66ad5130ff",
   "metadata": {},
   "outputs": [],
   "source": [
    "u = fem.Function(V)\n",
    "v = ufl.TestFunction(V)\n",
    "Resid = ufl.dot(v,(0.5*u**2).dx(0)) * ufl.dx + nu*ufl.dot(grad(v),grad(u)) * ufl.dx # Because of mixed derivatives, need to use .dx instead of grad function to find derivative"
   ]
  },
  {
   "cell_type": "markdown",
   "id": "b8229773-00b7-4403-a207-a38e992886a4",
   "metadata": {},
   "source": [
    "Set up the nonlinear solver"
   ]
  },
  {
   "cell_type": "code",
   "execution_count": 6,
   "id": "72a9b711-f7d2-4107-818e-ce68f09865ec",
   "metadata": {},
   "outputs": [],
   "source": [
    "problemForm = NonlinearProblem(Resid, u, bcs=bcs)\n",
    "## The following code is from the nonlinear possion equation demo\n",
    "solver = NewtonSolver(MPI.COMM_WORLD, problemForm) # Uses a newton solver\n",
    "solver.convergence_criterion = \"incremental\"\n",
    "solver.rtol = 1e-6\n",
    "solver.report = True\n",
    "ksp = solver.krylov_solver\n",
    "opts = PETSc.Options()\n",
    "option_prefix = ksp.getOptionsPrefix()\n",
    "opts[f\"{option_prefix}ksp_type\"] = \"cg\"\n",
    "opts[f\"{option_prefix}pc_type\"] = \"gamg\"\n",
    "opts[f\"{option_prefix}pc_factor_mat_solver_type\"] = \"mumps\"\n",
    "ksp.setFromOptions()"
   ]
  },
  {
   "cell_type": "raw",
   "id": "72d94998-c67e-42ff-a1b4-20fd5681719c",
   "metadata": {},
   "source": [
    "Solve the non-linear system"
   ]
  },
  {
   "cell_type": "code",
   "execution_count": 7,
   "id": "71fb0956-8833-4c7e-8638-426d369fcf47",
   "metadata": {},
   "outputs": [
    {
     "name": "stderr",
     "output_type": "stream",
     "text": [
      "2024-06-17 12:55:35.676 (   0.065s) [main            ]              petsc.cpp:700   INFO| PETSc Krylov solver starting to solve system.\n",
      "2024-06-17 12:55:35.890 (   0.279s) [main            ]              petsc.cpp:700   INFO| PETSc Krylov solver starting to solve system.\n",
      "2024-06-17 12:55:35.907 (   0.296s) [main            ]       NewtonSolver.cpp:38    INFO| Newton iteration 2: r (abs) = 7728.62 (tol = 1e-10) r (rel) = 94.6134(tol = 1e-06)\n",
      "2024-06-17 12:55:35.926 (   0.315s) [main            ]              petsc.cpp:700   INFO| PETSc Krylov solver starting to solve system.\n",
      "2024-06-17 12:55:35.942 (   0.331s) [main            ]       NewtonSolver.cpp:38    INFO| Newton iteration 3: r (abs) = 31.3762 (tol = 1e-10) r (rel) = 0.384106(tol = 1e-06)\n",
      "2024-06-17 12:55:35.961 (   0.350s) [main            ]              petsc.cpp:700   INFO| PETSc Krylov solver starting to solve system.\n",
      "2024-06-17 12:55:35.977 (   0.366s) [main            ]       NewtonSolver.cpp:38    INFO| Newton iteration 4: r (abs) = 74.4534 (tol = 1e-10) r (rel) = 0.911455(tol = 1e-06)\n",
      "2024-06-17 12:55:35.997 (   0.385s) [main            ]              petsc.cpp:700   INFO| PETSc Krylov solver starting to solve system.\n",
      "2024-06-17 12:55:36.014 (   0.402s) [main            ]       NewtonSolver.cpp:38    INFO| Newton iteration 5: r (abs) = 174.203 (tol = 1e-10) r (rel) = 2.13258(tol = 1e-06)\n",
      "2024-06-17 12:55:36.033 (   0.422s) [main            ]              petsc.cpp:700   INFO| PETSc Krylov solver starting to solve system.\n",
      "2024-06-17 12:55:36.049 (   0.437s) [main            ]       NewtonSolver.cpp:38    INFO| Newton iteration 6: r (abs) = 381.221 (tol = 1e-10) r (rel) = 4.66688(tol = 1e-06)\n",
      "2024-06-17 12:55:36.068 (   0.457s) [main            ]              petsc.cpp:700   INFO| PETSc Krylov solver starting to solve system.\n",
      "2024-06-17 12:55:36.084 (   0.472s) [main            ]       NewtonSolver.cpp:38    INFO| Newton iteration 7: r (abs) = 636.87 (tol = 1e-10) r (rel) = 7.79653(tol = 1e-06)\n",
      "2024-06-17 12:55:36.103 (   0.492s) [main            ]              petsc.cpp:700   INFO| PETSc Krylov solver starting to solve system.\n",
      "2024-06-17 12:55:36.123 (   0.512s) [main            ]       NewtonSolver.cpp:38    INFO| Newton iteration 8: r (abs) = 616.675 (tol = 1e-10) r (rel) = 7.54931(tol = 1e-06)\n",
      "2024-06-17 12:55:36.143 (   0.531s) [main            ]              petsc.cpp:700   INFO| PETSc Krylov solver starting to solve system.\n",
      "2024-06-17 12:55:36.160 (   0.549s) [main            ]       NewtonSolver.cpp:38    INFO| Newton iteration 9: r (abs) = 530.785 (tol = 1e-10) r (rel) = 6.49784(tol = 1e-06)\n",
      "2024-06-17 12:55:36.179 (   0.568s) [main            ]              petsc.cpp:700   INFO| PETSc Krylov solver starting to solve system.\n",
      "2024-06-17 12:55:36.202 (   0.591s) [main            ]       NewtonSolver.cpp:38    INFO| Newton iteration 10: r (abs) = 489.205 (tol = 1e-10) r (rel) = 5.98883(tol = 1e-06)\n",
      "2024-06-17 12:55:36.222 (   0.610s) [main            ]              petsc.cpp:700   INFO| PETSc Krylov solver starting to solve system.\n",
      "2024-06-17 12:55:36.244 (   0.633s) [main            ]       NewtonSolver.cpp:38    INFO| Newton iteration 11: r (abs) = 400.042 (tol = 1e-10) r (rel) = 4.89729(tol = 1e-06)\n",
      "2024-06-17 12:55:36.264 (   0.652s) [main            ]              petsc.cpp:700   INFO| PETSc Krylov solver starting to solve system.\n",
      "2024-06-17 12:55:36.283 (   0.671s) [main            ]       NewtonSolver.cpp:38    INFO| Newton iteration 12: r (abs) = 294.005 (tol = 1e-10) r (rel) = 3.59919(tol = 1e-06)\n",
      "2024-06-17 12:55:36.302 (   0.691s) [main            ]              petsc.cpp:700   INFO| PETSc Krylov solver starting to solve system.\n",
      "2024-06-17 12:55:36.330 (   0.719s) [main            ]       NewtonSolver.cpp:38    INFO| Newton iteration 13: r (abs) = 222.223 (tol = 1e-10) r (rel) = 2.72045(tol = 1e-06)\n",
      "2024-06-17 12:55:36.350 (   0.738s) [main            ]              petsc.cpp:700   INFO| PETSc Krylov solver starting to solve system.\n",
      "2024-06-17 12:55:36.367 (   0.756s) [main            ]       NewtonSolver.cpp:38    INFO| Newton iteration 14: r (abs) = 183.136 (tol = 1e-10) r (rel) = 2.24194(tol = 1e-06)\n",
      "2024-06-17 12:55:36.387 (   0.776s) [main            ]              petsc.cpp:700   INFO| PETSc Krylov solver starting to solve system.\n",
      "2024-06-17 12:55:36.406 (   0.795s) [main            ]       NewtonSolver.cpp:38    INFO| Newton iteration 15: r (abs) = 165.152 (tol = 1e-10) r (rel) = 2.02178(tol = 1e-06)\n",
      "2024-06-17 12:55:36.425 (   0.814s) [main            ]              petsc.cpp:700   INFO| PETSc Krylov solver starting to solve system.\n",
      "2024-06-17 12:55:36.444 (   0.833s) [main            ]       NewtonSolver.cpp:38    INFO| Newton iteration 16: r (abs) = 161.797 (tol = 1e-10) r (rel) = 1.98071(tol = 1e-06)\n",
      "2024-06-17 12:55:36.464 (   0.853s) [main            ]              petsc.cpp:700   INFO| PETSc Krylov solver starting to solve system.\n",
      "2024-06-17 12:55:36.502 (   0.891s) [main            ]       NewtonSolver.cpp:38    INFO| Newton iteration 17: r (abs) = 170.899 (tol = 1e-10) r (rel) = 2.09214(tol = 1e-06)\n",
      "2024-06-17 12:55:36.521 (   0.910s) [main            ]              petsc.cpp:700   INFO| PETSc Krylov solver starting to solve system.\n",
      "2024-06-17 12:55:36.556 (   0.945s) [main            ]       NewtonSolver.cpp:38    INFO| Newton iteration 18: r (abs) = 192.744 (tol = 1e-10) r (rel) = 2.35956(tol = 1e-06)\n",
      "2024-06-17 12:55:36.576 (   0.964s) [main            ]              petsc.cpp:700   INFO| PETSc Krylov solver starting to solve system.\n",
      "2024-06-17 12:55:36.606 (   0.995s) [main            ]       NewtonSolver.cpp:38    INFO| Newton iteration 19: r (abs) = 227.523 (tol = 1e-10) r (rel) = 2.78532(tol = 1e-06)\n",
      "2024-06-17 12:55:36.625 (   1.014s) [main            ]              petsc.cpp:700   INFO| PETSc Krylov solver starting to solve system.\n",
      "2024-06-17 12:55:58.598 (  22.987s) [main            ]       NewtonSolver.cpp:38    INFO| Newton iteration 20: r (abs) = 269.007 (tol = 1e-10) r (rel) = 3.29316(tol = 1e-06)\n",
      "2024-06-17 12:55:58.618 (  23.007s) [main            ]              petsc.cpp:700   INFO| PETSc Krylov solver starting to solve system.\n",
      "2024-06-17 12:55:58.635 (  23.024s) [main            ]       NewtonSolver.cpp:38    INFO| Newton iteration 21: r (abs) = 297.351 (tol = 1e-10) r (rel) = 3.64016(tol = 1e-06)\n",
      "2024-06-17 12:55:58.654 (  23.043s) [main            ]              petsc.cpp:700   INFO| PETSc Krylov solver starting to solve system.\n",
      "2024-06-17 12:55:58.671 (  23.060s) [main            ]       NewtonSolver.cpp:38    INFO| Newton iteration 22: r (abs) = 296.171 (tol = 1e-10) r (rel) = 3.62571(tol = 1e-06)\n",
      "2024-06-17 12:55:58.691 (  23.080s) [main            ]              petsc.cpp:700   INFO| PETSc Krylov solver starting to solve system.\n",
      "2024-06-17 12:55:58.704 (  23.093s) [main            ]       NewtonSolver.cpp:38    INFO| Newton iteration 23: r (abs) = 279.003 (tol = 1e-10) r (rel) = 3.41554(tol = 1e-06)\n",
      "2024-06-17 12:55:58.724 (  23.113s) [main            ]              petsc.cpp:700   INFO| PETSc Krylov solver starting to solve system.\n",
      "2024-06-17 12:55:58.737 (  23.126s) [main            ]       NewtonSolver.cpp:38    INFO| Newton iteration 24: r (abs) = 262.648 (tol = 1e-10) r (rel) = 3.21533(tol = 1e-06)\n",
      "2024-06-17 12:55:58.757 (  23.146s) [main            ]              petsc.cpp:700   INFO| PETSc Krylov solver starting to solve system.\n",
      "2024-06-17 12:55:58.771 (  23.160s) [main            ]       NewtonSolver.cpp:38    INFO| Newton iteration 25: r (abs) = 248.643 (tol = 1e-10) r (rel) = 3.04388(tol = 1e-06)\n",
      "2024-06-17 12:55:58.790 (  23.179s) [main            ]              petsc.cpp:700   INFO| PETSc Krylov solver starting to solve system.\n",
      "2024-06-17 12:55:58.804 (  23.193s) [main            ]       NewtonSolver.cpp:38    INFO| Newton iteration 26: r (abs) = 235.029 (tol = 1e-10) r (rel) = 2.87721(tol = 1e-06)\n",
      "2024-06-17 12:55:58.825 (  23.214s) [main            ]              petsc.cpp:700   INFO| PETSc Krylov solver starting to solve system.\n",
      "2024-06-17 12:55:58.840 (  23.229s) [main            ]       NewtonSolver.cpp:38    INFO| Newton iteration 27: r (abs) = 222.985 (tol = 1e-10) r (rel) = 2.72977(tol = 1e-06)\n",
      "2024-06-17 12:55:58.862 (  23.251s) [main            ]              petsc.cpp:700   INFO| PETSc Krylov solver starting to solve system.\n",
      "2024-06-17 12:55:58.883 (  23.272s) [main            ]       NewtonSolver.cpp:38    INFO| Newton iteration 28: r (abs) = 215.486 (tol = 1e-10) r (rel) = 2.63797(tol = 1e-06)\n",
      "2024-06-17 12:55:58.912 (  23.301s) [main            ]              petsc.cpp:700   INFO| PETSc Krylov solver starting to solve system.\n",
      "2024-06-17 12:55:58.928 (  23.317s) [main            ]       NewtonSolver.cpp:38    INFO| Newton iteration 29: r (abs) = 214.792 (tol = 1e-10) r (rel) = 2.62947(tol = 1e-06)\n",
      "2024-06-17 12:55:58.947 (  23.336s) [main            ]              petsc.cpp:700   INFO| PETSc Krylov solver starting to solve system.\n",
      "2024-06-17 12:55:58.964 (  23.353s) [main            ]       NewtonSolver.cpp:38    INFO| Newton iteration 30: r (abs) = 221.377 (tol = 1e-10) r (rel) = 2.71009(tol = 1e-06)\n",
      "2024-06-17 12:55:58.984 (  23.372s) [main            ]              petsc.cpp:700   INFO| PETSc Krylov solver starting to solve system.\n",
      "2024-06-17 12:55:59.000 (  23.389s) [main            ]       NewtonSolver.cpp:38    INFO| Newton iteration 31: r (abs) = 233.154 (tol = 1e-10) r (rel) = 2.85426(tol = 1e-06)\n",
      "2024-06-17 12:55:59.019 (  23.408s) [main            ]              petsc.cpp:700   INFO| PETSc Krylov solver starting to solve system.\n",
      "2024-06-17 12:55:59.032 (  23.421s) [main            ]       NewtonSolver.cpp:38    INFO| Newton iteration 32: r (abs) = 243.881 (tol = 1e-10) r (rel) = 2.98558(tol = 1e-06)\n",
      "2024-06-17 12:55:59.053 (  23.442s) [main            ]              petsc.cpp:700   INFO| PETSc Krylov solver starting to solve system.\n",
      "2024-06-17 12:55:59.074 (  23.463s) [main            ]       NewtonSolver.cpp:38    INFO| Newton iteration 33: r (abs) = 242.341 (tol = 1e-10) r (rel) = 2.96673(tol = 1e-06)\n",
      "2024-06-17 12:55:59.093 (  23.482s) [main            ]              petsc.cpp:700   INFO| PETSc Krylov solver starting to solve system.\n",
      "2024-06-17 12:55:59.106 (  23.495s) [main            ]       NewtonSolver.cpp:38    INFO| Newton iteration 34: r (abs) = 217.533 (tol = 1e-10) r (rel) = 2.66303(tol = 1e-06)\n",
      "2024-06-17 12:55:59.126 (  23.515s) [main            ]              petsc.cpp:700   INFO| PETSc Krylov solver starting to solve system.\n",
      "2024-06-17 12:55:59.143 (  23.532s) [main            ]       NewtonSolver.cpp:38    INFO| Newton iteration 35: r (abs) = 170.762 (tol = 1e-10) r (rel) = 2.09046(tol = 1e-06)\n",
      "2024-06-17 12:55:59.163 (  23.552s) [main            ]              petsc.cpp:700   INFO| PETSc Krylov solver starting to solve system.\n",
      "2024-06-17 12:55:59.182 (  23.571s) [main            ]       NewtonSolver.cpp:38    INFO| Newton iteration 36: r (abs) = 117.964 (tol = 1e-10) r (rel) = 1.44412(tol = 1e-06)\n",
      "2024-06-17 12:55:59.202 (  23.590s) [main            ]              petsc.cpp:700   INFO| PETSc Krylov solver starting to solve system.\n",
      "2024-06-17 12:55:59.221 (  23.610s) [main            ]       NewtonSolver.cpp:38    INFO| Newton iteration 37: r (abs) = 74.2814 (tol = 1e-10) r (rel) = 0.90935(tol = 1e-06)\n",
      "2024-06-17 12:55:59.240 (  23.629s) [main            ]              petsc.cpp:700   INFO| PETSc Krylov solver starting to solve system.\n",
      "2024-06-17 12:55:59.256 (  23.645s) [main            ]       NewtonSolver.cpp:38    INFO| Newton iteration 38: r (abs) = 44.2421 (tol = 1e-10) r (rel) = 0.54161(tol = 1e-06)\n",
      "2024-06-17 12:55:59.277 (  23.665s) [main            ]              petsc.cpp:700   INFO| PETSc Krylov solver starting to solve system.\n",
      "2024-06-17 12:55:59.306 (  23.695s) [main            ]       NewtonSolver.cpp:38    INFO| Newton iteration 39: r (abs) = 25.5586 (tol = 1e-10) r (rel) = 0.312887(tol = 1e-06)\n",
      "2024-06-17 12:55:59.337 (  23.726s) [main            ]              petsc.cpp:700   INFO| PETSc Krylov solver starting to solve system.\n",
      "2024-06-17 12:55:59.363 (  23.752s) [main            ]       NewtonSolver.cpp:38    INFO| Newton iteration 40: r (abs) = 14.5263 (tol = 1e-10) r (rel) = 0.17783(tol = 1e-06)\n",
      "2024-06-17 12:55:59.382 (  23.771s) [main            ]              petsc.cpp:700   INFO| PETSc Krylov solver starting to solve system.\n",
      "2024-06-17 12:55:59.399 (  23.788s) [main            ]       NewtonSolver.cpp:38    INFO| Newton iteration 41: r (abs) = 8.18415 (tol = 1e-10) r (rel) = 0.10019(tol = 1e-06)\n",
      "2024-06-17 12:55:59.419 (  23.807s) [main            ]              petsc.cpp:700   INFO| PETSc Krylov solver starting to solve system.\n",
      "2024-06-17 12:55:59.435 (  23.824s) [main            ]       NewtonSolver.cpp:38    INFO| Newton iteration 42: r (abs) = 4.58914 (tol = 1e-10) r (rel) = 0.05618(tol = 1e-06)\n",
      "2024-06-17 12:55:59.455 (  23.843s) [main            ]              petsc.cpp:700   INFO| PETSc Krylov solver starting to solve system.\n",
      "2024-06-17 12:55:59.471 (  23.860s) [main            ]       NewtonSolver.cpp:38    INFO| Newton iteration 43: r (abs) = 2.5666 (tol = 1e-10) r (rel) = 0.0314202(tol = 1e-06)\n",
      "2024-06-17 12:55:59.490 (  23.879s) [main            ]              petsc.cpp:700   INFO| PETSc Krylov solver starting to solve system.\n",
      "2024-06-17 12:55:59.504 (  23.893s) [main            ]       NewtonSolver.cpp:38    INFO| Newton iteration 44: r (abs) = 1.43338 (tol = 1e-10) r (rel) = 0.0175474(tol = 1e-06)\n",
      "2024-06-17 12:55:59.525 (  23.914s) [main            ]              petsc.cpp:700   INFO| PETSc Krylov solver starting to solve system.\n",
      "2024-06-17 12:55:59.543 (  23.932s) [main            ]       NewtonSolver.cpp:38    INFO| Newton iteration 45: r (abs) = 0.799872 (tol = 1e-10) r (rel) = 0.00979199(tol = 1e-06)\n",
      "2024-06-17 12:55:59.563 (  23.952s) [main            ]              petsc.cpp:700   INFO| PETSc Krylov solver starting to solve system.\n",
      "2024-06-17 12:55:59.580 (  23.969s) [main            ]       NewtonSolver.cpp:38    INFO| Newton iteration 46: r (abs) = 0.446156 (tol = 1e-10) r (rel) = 0.00546182(tol = 1e-06)\n",
      "2024-06-17 12:55:59.600 (  23.989s) [main            ]              petsc.cpp:700   INFO| PETSc Krylov solver starting to solve system.\n",
      "2024-06-17 12:55:59.616 (  24.005s) [main            ]       NewtonSolver.cpp:38    INFO| Newton iteration 47: r (abs) = 0.248797 (tol = 1e-10) r (rel) = 0.00304576(tol = 1e-06)\n",
      "2024-06-17 12:55:59.635 (  24.024s) [main            ]              petsc.cpp:700   INFO| PETSc Krylov solver starting to solve system.\n",
      "2024-06-17 12:55:59.652 (  24.041s) [main            ]       NewtonSolver.cpp:38    INFO| Newton iteration 48: r (abs) = 0.138722 (tol = 1e-10) r (rel) = 0.00169823(tol = 1e-06)\n",
      "2024-06-17 12:55:59.672 (  24.060s) [main            ]              petsc.cpp:700   INFO| PETSc Krylov solver starting to solve system.\n",
      "2024-06-17 12:55:59.688 (  24.077s) [main            ]       NewtonSolver.cpp:38    INFO| Newton iteration 49: r (abs) = 0.0773415 (tol = 1e-10) r (rel) = 0.000946811(tol = 1e-06)\n",
      "2024-06-17 12:55:59.708 (  24.097s) [main            ]              petsc.cpp:700   INFO| PETSc Krylov solver starting to solve system.\n",
      "2024-06-17 12:55:59.721 (  24.109s) [main            ]       NewtonSolver.cpp:38    INFO| Newton iteration 50: r (abs) = 0.0431182 (tol = 1e-10) r (rel) = 0.000527851(tol = 1e-06)\n"
     ]
    },
    {
     "ename": "RuntimeError",
     "evalue": "Newton solver did not converge because maximum number of iterations reached",
     "output_type": "error",
     "traceback": [
      "\u001b[0;31m---------------------------------------------------------------------------\u001b[0m",
      "\u001b[0;31mRuntimeError\u001b[0m                              Traceback (most recent call last)",
      "Cell \u001b[0;32mIn[7], line 2\u001b[0m\n\u001b[1;32m      1\u001b[0m log\u001b[38;5;241m.\u001b[39mset_log_level(log\u001b[38;5;241m.\u001b[39mLogLevel\u001b[38;5;241m.\u001b[39mINFO)\n\u001b[0;32m----> 2\u001b[0m n, converged \u001b[38;5;241m=\u001b[39m \u001b[43msolver\u001b[49m\u001b[38;5;241;43m.\u001b[39;49m\u001b[43msolve\u001b[49m\u001b[43m(\u001b[49m\u001b[43mu\u001b[49m\u001b[43m)\u001b[49m\n\u001b[1;32m      3\u001b[0m \u001b[38;5;28;01massert\u001b[39;00m (converged) \u001b[38;5;66;03m# Used in debugging\u001b[39;00m\n\u001b[1;32m      4\u001b[0m \u001b[38;5;28mprint\u001b[39m(\u001b[38;5;124mf\u001b[39m\u001b[38;5;124m\"\u001b[39m\u001b[38;5;124mNumber of interations: \u001b[39m\u001b[38;5;132;01m{\u001b[39;00mn\u001b[38;5;132;01m:\u001b[39;00m\u001b[38;5;124md\u001b[39m\u001b[38;5;132;01m}\u001b[39;00m\u001b[38;5;124m\"\u001b[39m)\n",
      "File \u001b[0;32m~/packages/Anaconda3/envs/fenicsx-env/lib/python3.12/site-packages/dolfinx/nls/petsc.py:47\u001b[0m, in \u001b[0;36mNewtonSolver.solve\u001b[0;34m(self, u)\u001b[0m\n\u001b[1;32m     44\u001b[0m \u001b[38;5;28;01mdef\u001b[39;00m \u001b[38;5;21msolve\u001b[39m(\u001b[38;5;28mself\u001b[39m, u: fem\u001b[38;5;241m.\u001b[39mFunction):\n\u001b[1;32m     45\u001b[0m \u001b[38;5;250m    \u001b[39m\u001b[38;5;124;03m\"\"\"Solve non-linear problem into function u. Returns the number\u001b[39;00m\n\u001b[1;32m     46\u001b[0m \u001b[38;5;124;03m    of iterations and if the solver converged.\"\"\"\u001b[39;00m\n\u001b[0;32m---> 47\u001b[0m     n, converged \u001b[38;5;241m=\u001b[39m \u001b[38;5;28;43msuper\u001b[39;49m\u001b[43m(\u001b[49m\u001b[43m)\u001b[49m\u001b[38;5;241;43m.\u001b[39;49m\u001b[43msolve\u001b[49m\u001b[43m(\u001b[49m\u001b[43mu\u001b[49m\u001b[38;5;241;43m.\u001b[39;49m\u001b[43mx\u001b[49m\u001b[38;5;241;43m.\u001b[39;49m\u001b[43mpetsc_vec\u001b[49m\u001b[43m)\u001b[49m\n\u001b[1;32m     48\u001b[0m     u\u001b[38;5;241m.\u001b[39mx\u001b[38;5;241m.\u001b[39mscatter_forward()\n\u001b[1;32m     49\u001b[0m     \u001b[38;5;28;01mreturn\u001b[39;00m n, converged\n",
      "\u001b[0;31mRuntimeError\u001b[0m: Newton solver did not converge because maximum number of iterations reached"
     ]
    }
   ],
   "source": [
    "log.set_log_level(log.LogLevel.INFO)\n",
    "n, converged = solver.solve(u)\n",
    "assert (converged) # Used in debugging\n",
    "print(f\"Number of interations: {n:d}\")"
   ]
  },
  {
   "cell_type": "code",
   "execution_count": null,
   "id": "d4e710da-ab09-4d57-a398-3d2239eee48f",
   "metadata": {},
   "outputs": [],
   "source": [
    "xyz = V.tabulate_dof_coordinates()\n",
    "x = xyz[:,0]\n",
    "print(x)\n",
    "sol = np.array((u.vector))\n",
    "print(sol)"
   ]
  },
  {
   "cell_type": "code",
   "execution_count": null,
   "id": "906de0fb-6a04-45ec-8441-23f2f0b11fe3",
   "metadata": {},
   "outputs": [],
   "source": [
    "np.savetxt('FE_Practice_2_Mesh.csv', x, delimiter=',')\n",
    "np.savetxt('FE_Practice_2_Sol.csv', sol, delimiter=',')"
   ]
  },
  {
   "cell_type": "code",
   "execution_count": null,
   "id": "8ef3c517-161a-4c8e-bf2a-a15147605c5b",
   "metadata": {},
   "outputs": [],
   "source": []
  }
 ],
 "metadata": {
  "kernelspec": {
   "display_name": "Python 3 (ipykernel)",
   "language": "python",
   "name": "python3"
  },
  "language_info": {
   "codemirror_mode": {
    "name": "ipython",
    "version": 3
   },
   "file_extension": ".py",
   "mimetype": "text/x-python",
   "name": "python",
   "nbconvert_exporter": "python",
   "pygments_lexer": "ipython3",
   "version": "3.12.2"
  }
 },
 "nbformat": 4,
 "nbformat_minor": 5
}
