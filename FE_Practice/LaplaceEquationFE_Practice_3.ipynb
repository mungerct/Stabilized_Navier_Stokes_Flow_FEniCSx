{
 "cells": [
  {
   "cell_type": "code",
   "execution_count": null,
   "id": "3f3937b2-13bf-48ac-b5b5-c667fc316d89",
   "metadata": {},
   "outputs": [],
   "source": []
  },
  {
   "cell_type": "markdown",
   "id": "ad8b3945-6bff-4735-88a4-e16b111e6633",
   "metadata": {},
   "source": [
    "Laplace Equation Using Gmsh"
   ]
  },
  {
   "cell_type": "markdown",
   "id": "45b0125f-b424-4483-89b6-8f4e297fd2c2",
   "metadata": {},
   "source": [
    "Imports"
   ]
  },
  {
   "cell_type": "code",
   "execution_count": 1,
   "id": "4af8909b-6afa-4bfc-a829-809f1977c8cb",
   "metadata": {},
   "outputs": [],
   "source": [
    "import gmsh\n",
    "import numpy as np\n",
    "from dolfinx.io import (VTXWriter, distribute_entity_data, gmshio)\n",
    "from mpi4py import MPI\n",
    "from petsc4py.PETSc import ScalarType\n",
    "import numpy as np\n",
    "import ufl\n",
    "from dolfinx import fem, io, mesh, plot, nls, log, default_scalar_type\n",
    "from dolfinx.fem.petsc import LinearProblem\n",
    "from dolfinx.fem import (Constant, Function, functionspace,\n",
    "                         assemble_scalar, dirichletbc, form, locate_dofs_topological, set_bc)\n",
    "from ufl import ds, dx, grad, inner\n",
    "from mpi4py import MPI\n",
    "from petsc4py import PETSc\n",
    "from basix.ufl import element\n",
    "from dolfinx.mesh import create_mesh, meshtags_from_entities"
   ]
  },
  {
   "cell_type": "markdown",
   "id": "993f8448-c974-424d-b370-9090ea4f24fe",
   "metadata": {},
   "source": [
    "Initialize Domian Boundary and Lengths"
   ]
  },
  {
   "cell_type": "code",
   "execution_count": 2,
   "id": "bb3f5c60-4d2f-4553-8ecb-ab1f0337beac",
   "metadata": {},
   "outputs": [],
   "source": [
    "gmsh.initialize()\n",
    "\n",
    "L = 30\n",
    "H = 30\n",
    "c_x = L/2\n",
    "c_y = H/2\n",
    "r = 1\n",
    "gdim = 2\n",
    "mesh_comm = MPI.COMM_WORLD\n",
    "model_rank = 0\n",
    "if mesh_comm.rank == model_rank:\n",
    "    rectangle = gmsh.model.occ.addRectangle(0, 0, 0, L, H, tag=1)\n",
    "    obstacle = gmsh.model.occ.addDisk(c_x, c_y, 0, r, r)"
   ]
  },
  {
   "cell_type": "markdown",
   "id": "fc0dfefa-506c-4027-9aa1-2f11ddf0c8a1",
   "metadata": {},
   "source": [
    "Meshing can only be done on a single core, use the zeroth (first) core to make the mesh"
   ]
  },
  {
   "cell_type": "code",
   "execution_count": 3,
   "id": "927cb838-87db-4895-8e46-1d00b6fb1569",
   "metadata": {},
   "outputs": [
    {
     "name": "stdout",
     "output_type": "stream",
     "text": [
      "                                                                                                                                               \r"
     ]
    }
   ],
   "source": [
    "if mesh_comm.rank == model_rank:\n",
    "    fluid = gmsh.model.occ.cut([(gdim, rectangle)], [(gdim, obstacle)])\n",
    "    gmsh.model.occ.synchronize()"
   ]
  },
  {
   "cell_type": "markdown",
   "id": "d5c95e86-b158-461c-b1f0-16b6b2df237c",
   "metadata": {},
   "source": [
    "Add the ```fuild_marker``` which allows meshing of interior nodes "
   ]
  },
  {
   "cell_type": "code",
   "execution_count": 4,
   "id": "205208f7-069b-4725-a4f7-9284a3c1f80b",
   "metadata": {},
   "outputs": [],
   "source": [
    "fluid_marker = 1\n",
    "if mesh_comm.rank == model_rank:\n",
    "    volumes = gmsh.model.getEntities(dim=gdim)\n",
    "    assert (len(volumes) == 1)\n",
    "    gmsh.model.addPhysicalGroup(volumes[0][0], [volumes[0][1]], fluid_marker)\n",
    "    gmsh.model.setPhysicalName(volumes[0][0], fluid_marker, \"Fluid\")"
   ]
  },
  {
   "cell_type": "markdown",
   "id": "52dbdb7c-83e0-412f-bb25-c4a3d385d1af",
   "metadata": {},
   "source": [
    "Add tags to the different surfaces"
   ]
  },
  {
   "cell_type": "code",
   "execution_count": 5,
   "id": "3267c4e4-3e40-4dc2-8aef-e9fd0be68a00",
   "metadata": {},
   "outputs": [],
   "source": [
    "inlet_marker, outlet_marker, top_wall_marker, bottom_wall_marker, obstacle_marker = 2, 3, 4, 5, 6\n",
    "inflow, outflow, topwall, bottomwall, obstacle = [], [], [], [], []\n",
    "if mesh_comm.rank == model_rank:\n",
    "    boundaries = gmsh.model.getBoundary(volumes, oriented=False)\n",
    "    for boundary in boundaries:\n",
    "        center_of_mass = gmsh.model.occ.getCenterOfMass(boundary[0], boundary[1])\n",
    "        if np.allclose(center_of_mass, [0, H / 2, 0]):\n",
    "            inflow.append(boundary[1])\n",
    "        elif np.allclose(center_of_mass, [L, H / 2, 0]):\n",
    "            outflow.append(boundary[1])\n",
    "        elif np.allclose(center_of_mass, [L / 2, H, 0]):\n",
    "            topwall.append(boundary[1])\n",
    "        elif np.allclose(center_of_mass, [L / 2, 0, 0]):\n",
    "            bottomwall.append(boundary[1])\n",
    "        else:\n",
    "            obstacle.append(boundary[1])\n",
    "    gmsh.model.addPhysicalGroup(1, topwall, top_wall_marker)\n",
    "    gmsh.model.setPhysicalName(1, top_wall_marker, \"Top Wall\")\n",
    "    gmsh.model.addPhysicalGroup(1, bottomwall, bottom_wall_marker)\n",
    "    gmsh.model.setPhysicalName(1, bottom_wall_marker, \"Bottom Wall\")\n",
    "    gmsh.model.addPhysicalGroup(1, inflow, inlet_marker)\n",
    "    gmsh.model.setPhysicalName(1, inlet_marker, \"Inlet\")\n",
    "    gmsh.model.addPhysicalGroup(1, outflow, outlet_marker)\n",
    "    gmsh.model.setPhysicalName(1, outlet_marker, \"Outlet\")\n",
    "    gmsh.model.addPhysicalGroup(1, obstacle, obstacle_marker)\n",
    "    gmsh.model.setPhysicalName(1, obstacle_marker, \"Obstacle\")"
   ]
  },
  {
   "cell_type": "markdown",
   "id": "ecc2c857-abc2-4a71-9577-b7d929bb7acc",
   "metadata": {},
   "source": [
    "Mesh Refinement near the cylinder"
   ]
  },
  {
   "cell_type": "code",
   "execution_count": 6,
   "id": "adb1c633-15af-4874-9146-81c4f6721093",
   "metadata": {},
   "outputs": [],
   "source": [
    "# Create distance field from obstacle.\n",
    "# Add threshold of mesh sizes based on the distance field\n",
    "# LcMax -                  /--------\n",
    "#                      /\n",
    "# LcMin -o---------/\n",
    "#        |         |       |\n",
    "#       Point    DistMin DistMax\n",
    "res_min = r\n",
    "if mesh_comm.rank == model_rank:\n",
    "    distance_field = gmsh.model.mesh.field.add(\"Distance\")\n",
    "    gmsh.model.mesh.field.setNumbers(distance_field, \"EdgesList\", obstacle)\n",
    "    threshold_field = gmsh.model.mesh.field.add(\"Threshold\")\n",
    "    gmsh.model.mesh.field.setNumber(threshold_field, \"IField\", distance_field)\n",
    "    gmsh.model.mesh.field.setNumber(threshold_field, \"LcMin\", res_min)\n",
    "    gmsh.model.mesh.field.setNumber(threshold_field, \"LcMax\", 2*r)\n",
    "    gmsh.model.mesh.field.setNumber(threshold_field, \"DistMin\", 0)\n",
    "    gmsh.model.mesh.field.setNumber(threshold_field, \"DistMax\", 0)\n",
    "    min_field = gmsh.model.mesh.field.add(\"Min\")\n",
    "    gmsh.model.mesh.field.setNumbers(min_field, \"FieldsList\", [threshold_field])\n",
    "    gmsh.model.mesh.field.setAsBackgroundMesh(min_field)"
   ]
  },
  {
   "cell_type": "markdown",
   "id": "90f58e70-ee04-40e1-b038-ee5143854926",
   "metadata": {},
   "source": [
    "Mesh the Domain"
   ]
  },
  {
   "cell_type": "code",
   "execution_count": 7,
   "id": "58815a9f-361d-4ff9-a33b-56d21ce90e01",
   "metadata": {},
   "outputs": [
    {
     "name": "stdout",
     "output_type": "stream",
     "text": [
      "Info    : Meshing 1D...\n",
      "Info    : [  0%] Meshing curve 5 (Ellipse)\n",
      "Info    : [ 30%] Meshing curve 6 (Line)\n",
      "Info    : [ 50%] Meshing curve 7 (Line)\n",
      "Info    : [ 70%] Meshing curve 8 (Line)\n",
      "Info    : [ 90%] Meshing curve 9 (Line)\n",
      "Info    : Done meshing 1D (Wall 0.000385501s, CPU 0.000505s)\n",
      "Info    : Meshing 2D...\n",
      "Info    : Meshing surface 1 (Plane, Frontal-Delaunay for Quads)\n",
      "Info    : Simple recombination completed (Wall 0.00151521s, CPU 0.001452s): 97 quads, 18 triangles, 0 invalid quads, 0 quads with Q < 0.1, avg Q = 0.832706, min Q = 0.348838\n",
      "Info    : Simple recombination completed (Wall 0.00399841s, CPU 0.003967s): 441 quads, 0 triangles, 0 invalid quads, 0 quads with Q < 0.1, avg Q = 0.869133, min Q = 0.500973\n",
      "Info    : Done meshing 2D (Wall 0.00825625s, CPU 0.008211s)\n",
      "Info    : Refining mesh...\n",
      "Info    : Meshing order 2 (curvilinear on)...\n",
      "Info    : [  0%] Meshing curve 5 order 2\n",
      "Info    : [ 20%] Meshing curve 6 order 2\n",
      "Info    : [ 40%] Meshing curve 7 order 2\n",
      "Info    : [ 60%] Meshing curve 8 order 2\n",
      "Info    : [ 70%] Meshing curve 9 order 2\n",
      "Info    : [ 90%] Meshing surface 1 order 2\n",
      "Info    : Done meshing order 2 (Wall 0.00249623s, CPU 0.000314s)\n",
      "Info    : Done refining mesh (Wall 0.00275961s, CPU 0.000517s)\n",
      "Info    : 1836 nodes 1913 elements\n",
      "Info    : Meshing order 2 (curvilinear on)...\n",
      "Info    : [  0%] Meshing curve 5 order 2\n",
      "Info    : [ 20%] Meshing curve 6 order 2\n",
      "Info    : [ 40%] Meshing curve 7 order 2\n",
      "Info    : [ 60%] Meshing curve 8 order 2\n",
      "Info    : [ 70%] Meshing curve 9 order 2\n",
      "Info    : [ 90%] Meshing surface 1 order 2\n",
      "Info    : Done meshing order 2 (Wall 0.00920582s, CPU 0.009289s)\n",
      "Info    : Optimizing mesh (Netgen)...\n",
      "Info    : Done optimizing mesh (Wall 1.03601e-06s, CPU 2e-06s)\n"
     ]
    }
   ],
   "source": [
    "if mesh_comm.rank == model_rank:\n",
    "    gmsh.option.setNumber(\"Mesh.Algorithm\", 8)\n",
    "    gmsh.option.setNumber(\"Mesh.RecombinationAlgorithm\", 2)\n",
    "    gmsh.option.setNumber(\"Mesh.RecombineAll\", 1)\n",
    "    gmsh.option.setNumber(\"Mesh.SubdivisionAlgorithm\", 1)\n",
    "    gmsh.model.mesh.generate(gdim)\n",
    "    gmsh.model.mesh.setOrder(2)\n",
    "    gmsh.model.mesh.optimize(\"Netgen\")"
   ]
  },
  {
   "cell_type": "markdown",
   "id": "3d6ec281-cd60-4968-b0df-5f999cd23b83",
   "metadata": {},
   "source": [
    "Save the file to be viewed in gmsh"
   ]
  },
  {
   "cell_type": "code",
   "execution_count": 8,
   "id": "4214b011-3313-4718-a829-9bbb81c3850f",
   "metadata": {},
   "outputs": [
    {
     "name": "stdout",
     "output_type": "stream",
     "text": [
      "Info    : Writing 'LaplaceEquationFE_Practice_3.msh'...\n",
      "Info    : Done writing 'LaplaceEquationFE_Practice_3.msh'\n"
     ]
    }
   ],
   "source": [
    "gmsh.write(\"LaplaceEquationFE_Practice_3.msh\")"
   ]
  },
  {
   "cell_type": "code",
   "execution_count": 9,
   "id": "eac628be-6aff-46ee-b075-ec17fbe90461",
   "metadata": {},
   "outputs": [],
   "source": [
    "mesh, _, ft = gmshio.model_to_mesh(gmsh.model, mesh_comm, model_rank, gdim=gdim)\n",
    "ft.name = \"Facet markers\""
   ]
  },
  {
   "cell_type": "markdown",
   "id": "80662fe8-e4ba-4d97-8e83-0072293f5f3e",
   "metadata": {},
   "source": [
    "Boundary Conditions"
   ]
  },
  {
   "cell_type": "code",
   "execution_count": 10,
   "id": "eb0c6684-cb86-4c1d-9e25-5ec743a6307b",
   "metadata": {},
   "outputs": [],
   "source": [
    "msh = element(\"Lagrange\", mesh.topology.cell_name(), 2)\n",
    "V = fem.functionspace(mesh, msh)\n",
    "fdim = mesh.topology.dim - 1\n",
    "\n",
    "# Define boundary conditions\n",
    "\n",
    "# Inlet\n",
    "class InletVelocity():\n",
    "    def __call__(self, x):\n",
    "        values = np.zeros((1, x.shape[1]), dtype=PETSc.ScalarType)\n",
    "        values[0] = x[1] - L/2\n",
    "        return values\n",
    "\n",
    "\n",
    "u_inlet = fem.Function(V)\n",
    "inlet_velocity = InletVelocity()\n",
    "u_inlet.interpolate(inlet_velocity)\n",
    "bc_inflow = dirichletbc(u_inlet, locate_dofs_topological(V, fdim, ft.find(inlet_marker)))\n",
    "\n",
    "# Outlet\n",
    "bc_outlet = dirichletbc(u_inlet, locate_dofs_topological(V, fdim, ft.find(outlet_marker)))\n",
    "\n",
    "# Obstacle\n",
    "bc_obstacle = dirichletbc(PETSc.ScalarType(0), locate_dofs_topological(V, fdim, ft.find(obstacle_marker)), V)\n",
    "\n",
    "# Top Wall\n",
    "bc_top_wall = dirichletbc(PETSc.ScalarType(L/2), locate_dofs_topological(V, fdim, ft.find(top_wall_marker)), V)\n",
    "\n",
    "# Bottom Wall\n",
    "bc_bottom_wall = dirichletbc(PETSc.ScalarType(-L/2), locate_dofs_topological(V, fdim, ft.find(bottom_wall_marker)), V)"
   ]
  },
  {
   "cell_type": "markdown",
   "id": "51386c21-33f6-4a57-9a44-9d3fbbdb1747",
   "metadata": {},
   "source": [
    "Define v"
   ]
  },
  {
   "cell_type": "code",
   "execution_count": 11,
   "id": "e6c91615-c88e-4378-9374-919c883fdad3",
   "metadata": {},
   "outputs": [],
   "source": [
    "u = ufl.TrialFunction(V)\n",
    "v = ufl.TestFunction(V)\n",
    "f = fem.Constant(mesh,  default_scalar_type(0))\n",
    "bcs = [bc_obstacle, bc_top_wall, bc_bottom_wall]\n",
    "a = ufl.dot(ufl.grad(u), ufl.grad(v)) * ufl.dx\n",
    "L = f * v * ufl.dx"
   ]
  },
  {
   "cell_type": "markdown",
   "id": "b3e4786b-d850-420a-9e7e-17b15bbb765f",
   "metadata": {},
   "source": [
    "Solve the linear problem"
   ]
  },
  {
   "cell_type": "code",
   "execution_count": 12,
   "id": "eeaffb91-c428-4127-96b5-ac4980c8b155",
   "metadata": {},
   "outputs": [],
   "source": [
    "problem = LinearProblem(a, L, bcs=bcs, petsc_options={\"ksp_type\": \"preonly\", \"pc_type\": \"lu\"})\n",
    "uh = problem.solve()"
   ]
  },
  {
   "cell_type": "markdown",
   "id": "65712964-161b-439b-934f-407862fb99a4",
   "metadata": {},
   "source": [
    "Export the data for post processing"
   ]
  },
  {
   "cell_type": "code",
   "execution_count": 13,
   "id": "687eb7bb-f7ed-4102-8cb5-ee577b725c0e",
   "metadata": {},
   "outputs": [
    {
     "name": "stdout",
     "output_type": "stream",
     "text": [
      "[3.00000000e+01 2.90625000e+01 3.00000000e+01 ... 4.68750000e-01\n",
      " 7.31737658e-17 4.68038007e-01]\n",
      "[ 15.          15.          14.05923181 ... -15.         -14.52960992\n",
      " -14.52938312]\n"
     ]
    }
   ],
   "source": [
    "xyz = V.tabulate_dof_coordinates()\n",
    "x = xyz[:,0]\n",
    "y = xyz[:,1]\n",
    "print(x)\n",
    "sol = np.array((uh.vector))\n",
    "print(sol)\n",
    "np.savetxt('FE_Practice_3_x_Mesh.csv', x, delimiter=',')\n",
    "np.savetxt('FE_Practice_3_y_Mesh.csv', y, delimiter=',')\n",
    "np.savetxt('FE_Practice_3_Sol.csv', sol, delimiter=',')"
   ]
  },
  {
   "cell_type": "code",
   "execution_count": 15,
   "id": "fc344890-84de-4dc0-a6f6-8e58e0f0bd97",
   "metadata": {},
   "outputs": [],
   "source": [
    "from dolfinx.io import XDMFFile\n",
    "from basix.ufl import element as VectorElement\n",
    "with XDMFFile(MPI.COMM_WORLD, \"LaplaceEquation2D_FE_Practice_3.xdmf\", \"w\") as pfile_xdmf:\n",
    "    uh.x.scatter_forward()\n",
    "    P3 = VectorElement(\"Lagrange\", mesh.basix_cell(), 2)\n",
    "    u1 = Function(functionspace(mesh, P3))\n",
    "    u1.interpolate(uh)\n",
    "    pfile_xdmf.write_mesh(mesh)\n",
    "    pfile_xdmf.write_function(u1)"
   ]
  },
  {
   "cell_type": "code",
   "execution_count": null,
   "id": "674bd1df-fc7a-4bd1-9767-6f1e4b3ceb99",
   "metadata": {},
   "outputs": [],
   "source": []
  }
 ],
 "metadata": {
  "kernelspec": {
   "display_name": "Python 3 (ipykernel)",
   "language": "python",
   "name": "python3"
  },
  "language_info": {
   "codemirror_mode": {
    "name": "ipython",
    "version": 3
   },
   "file_extension": ".py",
   "mimetype": "text/x-python",
   "name": "python",
   "nbconvert_exporter": "python",
   "pygments_lexer": "ipython3",
   "version": "3.12.2"
  }
 },
 "nbformat": 4,
 "nbformat_minor": 5
}
