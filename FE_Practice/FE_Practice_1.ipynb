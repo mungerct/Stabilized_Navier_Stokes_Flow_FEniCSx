{
 "cells": [
  {
   "cell_type": "markdown",
   "id": "a9563c60-656b-4fc7-9146-83df02ee66f2",
   "metadata": {},
   "source": [
    "Test problem from lecture 3 of ME 522"
   ]
  },
  {
   "cell_type": "markdown",
   "id": "61103769-1511-4b3d-b55a-44d1272e28f6",
   "metadata": {},
   "source": [
    "Import the modules needed to solve the linear problem"
   ]
  },
  {
   "cell_type": "code",
   "execution_count": 1,
   "id": "39187efa-9835-4d62-b198-333a8c8a16ab",
   "metadata": {},
   "outputs": [],
   "source": [
    "from mpi4py import MPI\n",
    "from petsc4py.PETSc import ScalarType\n",
    "import numpy as np\n",
    "import ufl\n",
    "from dolfinx import fem, io, mesh, plot\n",
    "from dolfinx.fem.petsc import LinearProblem\n",
    "from ufl import ds, dx, grad, inner"
   ]
  },
  {
   "cell_type": "markdown",
   "id": "0d964ee4-dd5e-4248-8173-1c8df6be920f",
   "metadata": {},
   "source": [
    "Create the mesh and function space"
   ]
  },
  {
   "cell_type": "code",
   "execution_count": 2,
   "id": "0d4da2cb-124c-4981-a3cb-b3bb4466419b",
   "metadata": {},
   "outputs": [],
   "source": [
    "msh = mesh.create_interval(comm=MPI.COMM_WORLD, points=((0.0),(1.0)), nx=20) # Create mesh\n",
    "V = fem.functionspace(msh, (\"Lagrange\", 1)) # Create linear function space"
   ]
  },
  {
   "cell_type": "markdown",
   "id": "f482de9d-3a90-4f3a-bc12-fd7eccbc3374",
   "metadata": {},
   "source": [
    "Define the Boundary Conditions"
   ]
  },
  {
   "cell_type": "code",
   "execution_count": 3,
   "id": "b0798978-3d70-4072-869c-6262d04fd7e8",
   "metadata": {},
   "outputs": [],
   "source": [
    "# Lower Boundary Condition\n",
    "facets_lower = mesh.locate_entities_boundary( # Find the facets of the lower boundary, there should only be 1 becuase this is a 1D problem\n",
    "    msh,\n",
    "    dim=(msh.topology.dim - 1),\n",
    "    marker=lambda x: np.isclose(x[0], 0.0),\n",
    ")\n",
    "# Find the DOFs\n",
    "dofs = fem.locate_dofs_topological(V=V, entity_dim=0, entities=facets_lower)\n",
    "# Apply the lower BC\n",
    "bc_L = fem.dirichletbc(value=ScalarType(0), dofs=dofs, V=V)"
   ]
  },
  {
   "cell_type": "code",
   "execution_count": 4,
   "id": "3958a917-7b49-4d7f-baac-8e3d7d070855",
   "metadata": {},
   "outputs": [],
   "source": [
    "# Upper Boundary Condition\n",
    "facets_upper = mesh.locate_entities_boundary( # Find the facets of the upper boundary, there should only be 1 becuase this is a 1D problem\n",
    "    msh,\n",
    "    dim=(msh.topology.dim - 1),\n",
    "    marker=lambda x: np.isclose(x[0], 1.0),\n",
    ")\n",
    "# Find the DOFs\n",
    "dofs = fem.locate_dofs_topological(V=V, entity_dim=0, entities=facets_upper)\n",
    "# Apply the lower BC\n",
    "bc_U = fem.dirichletbc(value=ScalarType(-0.4545), dofs=dofs, V=V)\n",
    "\n",
    "# Combine boundary conditions\n",
    "bcs = [bc_L, bc_U]"
   ]
  },
  {
   "cell_type": "markdown",
   "id": "50392f5d-ed49-4403-afcf-f7c6dccbbbd3",
   "metadata": {},
   "source": [
    "Define the variational problem"
   ]
  },
  {
   "cell_type": "code",
   "execution_count": 5,
   "id": "974404bc-b5fd-4ca6-897f-3d68eb09477b",
   "metadata": {},
   "outputs": [],
   "source": [
    "u = ufl.TrialFunction(V)\n",
    "v = ufl.TestFunction(V)\n",
    "\n",
    "a = ufl.dot(ufl.grad(u), ufl.grad(v)) * ufl.dx + 4 * u * v * ufl.dx\n",
    "L = - 3 * v * ufl.dx"
   ]
  },
  {
   "cell_type": "markdown",
   "id": "c22dad4d-a018-47a3-9eaf-16e436ae11d2",
   "metadata": {},
   "source": [
    "Solve the linear problem"
   ]
  },
  {
   "cell_type": "code",
   "execution_count": 6,
   "id": "dc6b4a46-bc72-47bd-88bd-6ec7e20c3db0",
   "metadata": {},
   "outputs": [],
   "source": [
    "from dolfinx.fem.petsc import LinearProblem\n",
    "problem = LinearProblem(a, L, bcs=bcs, petsc_options={\"ksp_type\": \"preonly\", \"pc_type\": \"lu\"})\n",
    "uh = problem.solve()"
   ]
  },
  {
   "cell_type": "code",
   "execution_count": 7,
   "id": "abbae9ac-3c90-4900-a7cc-9d5eaae11ecd",
   "metadata": {},
   "outputs": [
    {
     "name": "stdout",
     "output_type": "stream",
     "text": [
      "[0.   0.05 0.1  0.15 0.2  0.25 0.3  0.35 0.4  0.45 0.5  0.55 0.6  0.65\n",
      " 0.7  0.75 0.8  0.85 0.9  0.95 1.  ]\n"
     ]
    }
   ],
   "source": [
    "xyz = V.tabulate_dof_coordinates()\n",
    "x = xyz[:,0]\n",
    "print(x)"
   ]
  },
  {
   "cell_type": "code",
   "execution_count": 8,
   "id": "88fbd78b-b85d-4e29-881e-eea80949509c",
   "metadata": {},
   "outputs": [],
   "source": [
    "sol = np.array((uh.vector))"
   ]
  },
  {
   "cell_type": "code",
   "execution_count": 9,
   "id": "e5d75361-8f62-4f94-9b4d-e6722a0609d8",
   "metadata": {},
   "outputs": [],
   "source": [
    "np.savetxt('FE_Practice_1_Mesh.csv', x, delimiter=',')\n",
    "np.savetxt('FE_Practice_1_Sol.csv', sol, delimiter=',')"
   ]
  }
 ],
 "metadata": {
  "kernelspec": {
   "display_name": "Python 3 (ipykernel)",
   "language": "python",
   "name": "python3"
  },
  "language_info": {
   "codemirror_mode": {
    "name": "ipython",
    "version": 3
   },
   "file_extension": ".py",
   "mimetype": "text/x-python",
   "name": "python",
   "nbconvert_exporter": "python",
   "pygments_lexer": "ipython3",
   "version": "3.12.2"
  }
 },
 "nbformat": 4,
 "nbformat_minor": 5
}
